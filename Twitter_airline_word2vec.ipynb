{
  "nbformat": 4,
  "nbformat_minor": 0,
  "metadata": {
    "colab": {
      "name": "Twitter_airline_word2vec.ipynb",
      "provenance": [],
      "collapsed_sections": [],
      "machine_shape": "hm"
    },
    "kernelspec": {
      "name": "python3",
      "display_name": "Python 3"
    },
    "accelerator": "GPU"
  },
  "cells": [
    {
      "cell_type": "code",
      "metadata": {
        "id": "1V75a5fE9c76",
        "colab_type": "code",
        "outputId": "aae31127-a1e1-47b5-cbf8-ebea3180d23d",
        "colab": {
          "base_uri": "https://localhost:8080/",
          "height": 80
        }
      },
      "source": [
        "import pandas as pd\n",
        "import numpy as np\n",
        "\n",
        "\n",
        "import matplotlib.pyplot as plt\n",
        "%matplotlib inline\n",
        "\n",
        "# Scikit-learn\n",
        "from sklearn.model_selection import train_test_split\n",
        "from sklearn.preprocessing import LabelEncoder\n",
        "from sklearn.metrics import confusion_matrix, classification_report, accuracy_score\n",
        "from sklearn.manifold import TSNE\n",
        "from sklearn.feature_extraction.text import TfidfVectorizer\n",
        "\n",
        "# Keras\n",
        "from keras.preprocessing.text import Tokenizer\n",
        "from keras.preprocessing.sequence import pad_sequences\n",
        "from keras.models import Sequential\n",
        "from keras.layers import Activation, Dense, Dropout, Embedding, Flatten, Conv1D, MaxPooling1D, LSTM\n",
        "from keras import utils\n",
        "from keras.callbacks import ReduceLROnPlateau, EarlyStopping\n",
        "\n",
        "\n",
        "\n",
        "import nltk\n",
        "from nltk.corpus import stopwords\n",
        "from  nltk.stem import SnowballStemmer\n",
        "\n",
        "\n",
        "\n",
        "import gensim\n",
        "from gensim.models import KeyedVectors\n",
        "\n",
        "\n",
        "# Utility\n",
        "import re\n",
        "import os\n"
      ],
      "execution_count": 1,
      "outputs": [
        {
          "output_type": "stream",
          "text": [
            "Using TensorFlow backend.\n"
          ],
          "name": "stderr"
        },
        {
          "output_type": "display_data",
          "data": {
            "text/html": [
              "<p style=\"color: red;\">\n",
              "The default version of TensorFlow in Colab will soon switch to TensorFlow 2.x.<br>\n",
              "We recommend you <a href=\"https://www.tensorflow.org/guide/migrate\" target=\"_blank\">upgrade</a> now \n",
              "or ensure your notebook will continue to use TensorFlow 1.x via the <code>%tensorflow_version 1.x</code> magic:\n",
              "<a href=\"https://colab.research.google.com/notebooks/tensorflow_version.ipynb\" target=\"_blank\">more info</a>.</p>\n"
            ],
            "text/plain": [
              "<IPython.core.display.HTML object>"
            ]
          },
          "metadata": {
            "tags": []
          }
        }
      ]
    },
    {
      "cell_type": "code",
      "metadata": {
        "id": "dU73zDMt-pMr",
        "colab_type": "code",
        "outputId": "0d2a3dfe-3a31-4b3b-9688-e7638858b300",
        "colab": {
          "base_uri": "https://localhost:8080/",
          "height": 68
        }
      },
      "source": [
        "nltk.download('stopwords')\n"
      ],
      "execution_count": 2,
      "outputs": [
        {
          "output_type": "stream",
          "text": [
            "[nltk_data] Downloading package stopwords to /root/nltk_data...\n",
            "[nltk_data]   Unzipping corpora/stopwords.zip.\n"
          ],
          "name": "stdout"
        },
        {
          "output_type": "execute_result",
          "data": {
            "text/plain": [
              "True"
            ]
          },
          "metadata": {
            "tags": []
          },
          "execution_count": 2
        }
      ]
    },
    {
      "cell_type": "code",
      "metadata": {
        "id": "iZjpJnE6-qBA",
        "colab_type": "code",
        "colab": {}
      },
      "source": [
        "\n",
        "TRAIN_SIZE = 0.8\n",
        "\n",
        "# TEXT CLENAING\n",
        "TEXT_CLEANING_RE = \"@\\S+|https?:\\S+|http?:\\S|[^A-Za-z0-9]+\"\n",
        "\n",
        "# WORD2VEC \n",
        "W2V_SIZE = 300\n",
        "W2V_WINDOW = 10\n",
        "W2V_EPOCH = 32\n",
        "W2V_MIN_COUNT = 10\n",
        "\n",
        "# KERAS\n",
        "SEQUENCE_LENGTH = 300\n",
        "EPOCHS = 2\n",
        "BATCH_SIZE = 1024\n",
        "\n",
        "# SENTIMENT\n",
        "POSITIVE = \"positive\"\n",
        "NEGATIVE = \"negative\"\n",
        "NEUTRAL = \"neutral\"\n",
        "SENTIMENT_THRESHOLDS = (0.4, 0.7)\n",
        "\n",
        "# EXPORT\n",
        "KERAS_MODEL = \"model.h5\"\n",
        "WORD2VEC_MODEL = \"model.w2v\"\n",
        "TOKENIZER_MODEL = \"tokenizer.pkl\"\n",
        "ENCODER_MODEL = \"encoder.pkl\""
      ],
      "execution_count": 0,
      "outputs": []
    },
    {
      "cell_type": "code",
      "metadata": {
        "id": "ZNOZQedt-srJ",
        "colab_type": "code",
        "colab": {}
      },
      "source": [
        "df= pd.read_csv('/content/drive/My Drive/Projects/Twitter airlines/Tweets.csv')"
      ],
      "execution_count": 0,
      "outputs": []
    },
    {
      "cell_type": "code",
      "metadata": {
        "id": "8-q9YnxV-25l",
        "colab_type": "code",
        "outputId": "07447188-b6ee-4e0c-8170-e7e841175f98",
        "colab": {
          "base_uri": "https://localhost:8080/",
          "height": 442
        }
      },
      "source": [
        "df.head()"
      ],
      "execution_count": 5,
      "outputs": [
        {
          "output_type": "execute_result",
          "data": {
            "text/html": [
              "<div>\n",
              "<style scoped>\n",
              "    .dataframe tbody tr th:only-of-type {\n",
              "        vertical-align: middle;\n",
              "    }\n",
              "\n",
              "    .dataframe tbody tr th {\n",
              "        vertical-align: top;\n",
              "    }\n",
              "\n",
              "    .dataframe thead th {\n",
              "        text-align: right;\n",
              "    }\n",
              "</style>\n",
              "<table border=\"1\" class=\"dataframe\">\n",
              "  <thead>\n",
              "    <tr style=\"text-align: right;\">\n",
              "      <th></th>\n",
              "      <th>tweet_id</th>\n",
              "      <th>airline_sentiment</th>\n",
              "      <th>airline_sentiment_confidence</th>\n",
              "      <th>negativereason</th>\n",
              "      <th>negativereason_confidence</th>\n",
              "      <th>airline</th>\n",
              "      <th>airline_sentiment_gold</th>\n",
              "      <th>name</th>\n",
              "      <th>negativereason_gold</th>\n",
              "      <th>retweet_count</th>\n",
              "      <th>text</th>\n",
              "      <th>tweet_coord</th>\n",
              "      <th>tweet_created</th>\n",
              "      <th>tweet_location</th>\n",
              "      <th>user_timezone</th>\n",
              "    </tr>\n",
              "  </thead>\n",
              "  <tbody>\n",
              "    <tr>\n",
              "      <th>0</th>\n",
              "      <td>570306133677760513</td>\n",
              "      <td>neutral</td>\n",
              "      <td>1.0000</td>\n",
              "      <td>NaN</td>\n",
              "      <td>NaN</td>\n",
              "      <td>Virgin America</td>\n",
              "      <td>NaN</td>\n",
              "      <td>cairdin</td>\n",
              "      <td>NaN</td>\n",
              "      <td>0</td>\n",
              "      <td>@VirginAmerica What @dhepburn said.</td>\n",
              "      <td>NaN</td>\n",
              "      <td>2015-02-24 11:35:52 -0800</td>\n",
              "      <td>NaN</td>\n",
              "      <td>Eastern Time (US &amp; Canada)</td>\n",
              "    </tr>\n",
              "    <tr>\n",
              "      <th>1</th>\n",
              "      <td>570301130888122368</td>\n",
              "      <td>positive</td>\n",
              "      <td>0.3486</td>\n",
              "      <td>NaN</td>\n",
              "      <td>0.0000</td>\n",
              "      <td>Virgin America</td>\n",
              "      <td>NaN</td>\n",
              "      <td>jnardino</td>\n",
              "      <td>NaN</td>\n",
              "      <td>0</td>\n",
              "      <td>@VirginAmerica plus you've added commercials t...</td>\n",
              "      <td>NaN</td>\n",
              "      <td>2015-02-24 11:15:59 -0800</td>\n",
              "      <td>NaN</td>\n",
              "      <td>Pacific Time (US &amp; Canada)</td>\n",
              "    </tr>\n",
              "    <tr>\n",
              "      <th>2</th>\n",
              "      <td>570301083672813571</td>\n",
              "      <td>neutral</td>\n",
              "      <td>0.6837</td>\n",
              "      <td>NaN</td>\n",
              "      <td>NaN</td>\n",
              "      <td>Virgin America</td>\n",
              "      <td>NaN</td>\n",
              "      <td>yvonnalynn</td>\n",
              "      <td>NaN</td>\n",
              "      <td>0</td>\n",
              "      <td>@VirginAmerica I didn't today... Must mean I n...</td>\n",
              "      <td>NaN</td>\n",
              "      <td>2015-02-24 11:15:48 -0800</td>\n",
              "      <td>Lets Play</td>\n",
              "      <td>Central Time (US &amp; Canada)</td>\n",
              "    </tr>\n",
              "    <tr>\n",
              "      <th>3</th>\n",
              "      <td>570301031407624196</td>\n",
              "      <td>negative</td>\n",
              "      <td>1.0000</td>\n",
              "      <td>Bad Flight</td>\n",
              "      <td>0.7033</td>\n",
              "      <td>Virgin America</td>\n",
              "      <td>NaN</td>\n",
              "      <td>jnardino</td>\n",
              "      <td>NaN</td>\n",
              "      <td>0</td>\n",
              "      <td>@VirginAmerica it's really aggressive to blast...</td>\n",
              "      <td>NaN</td>\n",
              "      <td>2015-02-24 11:15:36 -0800</td>\n",
              "      <td>NaN</td>\n",
              "      <td>Pacific Time (US &amp; Canada)</td>\n",
              "    </tr>\n",
              "    <tr>\n",
              "      <th>4</th>\n",
              "      <td>570300817074462722</td>\n",
              "      <td>negative</td>\n",
              "      <td>1.0000</td>\n",
              "      <td>Can't Tell</td>\n",
              "      <td>1.0000</td>\n",
              "      <td>Virgin America</td>\n",
              "      <td>NaN</td>\n",
              "      <td>jnardino</td>\n",
              "      <td>NaN</td>\n",
              "      <td>0</td>\n",
              "      <td>@VirginAmerica and it's a really big bad thing...</td>\n",
              "      <td>NaN</td>\n",
              "      <td>2015-02-24 11:14:45 -0800</td>\n",
              "      <td>NaN</td>\n",
              "      <td>Pacific Time (US &amp; Canada)</td>\n",
              "    </tr>\n",
              "  </tbody>\n",
              "</table>\n",
              "</div>"
            ],
            "text/plain": [
              "             tweet_id  ...               user_timezone\n",
              "0  570306133677760513  ...  Eastern Time (US & Canada)\n",
              "1  570301130888122368  ...  Pacific Time (US & Canada)\n",
              "2  570301083672813571  ...  Central Time (US & Canada)\n",
              "3  570301031407624196  ...  Pacific Time (US & Canada)\n",
              "4  570300817074462722  ...  Pacific Time (US & Canada)\n",
              "\n",
              "[5 rows x 15 columns]"
            ]
          },
          "metadata": {
            "tags": []
          },
          "execution_count": 5
        }
      ]
    },
    {
      "cell_type": "code",
      "metadata": {
        "id": "OwQb4FU7-4FV",
        "colab_type": "code",
        "outputId": "775f8c56-60cd-4efc-9e6a-b5406adf2a57",
        "colab": {
          "base_uri": "https://localhost:8080/",
          "height": 34
        }
      },
      "source": [
        "list(df['airline_sentiment'].unique())"
      ],
      "execution_count": 6,
      "outputs": [
        {
          "output_type": "execute_result",
          "data": {
            "text/plain": [
              "['neutral', 'positive', 'negative']"
            ]
          },
          "metadata": {
            "tags": []
          },
          "execution_count": 6
        }
      ]
    },
    {
      "cell_type": "code",
      "metadata": {
        "id": "09bjFwrw-78x",
        "colab_type": "code",
        "colab": {}
      },
      "source": [
        "stop_words= stopwords.words('english')\n",
        "stemmer= SnowballStemmer('english')"
      ],
      "execution_count": 0,
      "outputs": []
    },
    {
      "cell_type": "code",
      "metadata": {
        "id": "JPw3JQz6-_bs",
        "colab_type": "code",
        "colab": {}
      },
      "source": [
        "def preprocess(text, stem=False):\n",
        "    # Remove link,user and special characters\n",
        "    text = re.sub(TEXT_CLEANING_RE, ' ', str(text).lower()).strip()\n",
        "    tokens = []\n",
        "    for token in text.split():\n",
        "        if token not in stop_words:\n",
        "            if stem:\n",
        "                tokens.append(stemmer.stem(token))\n",
        "            else:\n",
        "                tokens.append(token)\n",
        "    return \" \".join(tokens)\n",
        "df.text = df.text.apply(lambda x: preprocess(x))"
      ],
      "execution_count": 0,
      "outputs": []
    },
    {
      "cell_type": "code",
      "metadata": {
        "id": "_iFCA59m_Joy",
        "colab_type": "code",
        "outputId": "c797c3e4-28ef-46b3-9d0a-1aebd3334fd3",
        "colab": {
          "base_uri": "https://localhost:8080/",
          "height": 51
        }
      },
      "source": [
        "df_train,df_test= train_test_split(df,test_size=1-TRAIN_SIZE,random_state=42)\n",
        "print('Train size',len(df_train))\n",
        "print('Test size',len(df_test))"
      ],
      "execution_count": 9,
      "outputs": [
        {
          "output_type": "stream",
          "text": [
            "Train size 11712\n",
            "Test size 2928\n"
          ],
          "name": "stdout"
        }
      ]
    },
    {
      "cell_type": "code",
      "metadata": {
        "id": "HQuobh1e_MOk",
        "colab_type": "code",
        "outputId": "c1da28b6-ce94-4c3b-c6af-55f46fa54168",
        "colab": {
          "base_uri": "https://localhost:8080/",
          "height": 51
        }
      },
      "source": [
        "%%time\n",
        "documents = [_text.split() for _text in df_train.text]"
      ],
      "execution_count": 10,
      "outputs": [
        {
          "output_type": "stream",
          "text": [
            "CPU times: user 10.3 ms, sys: 2.06 ms, total: 12.3 ms\n",
            "Wall time: 12.1 ms\n"
          ],
          "name": "stdout"
        }
      ]
    },
    {
      "cell_type": "code",
      "metadata": {
        "id": "8MYlMHeW_Ov5",
        "colab_type": "code",
        "outputId": "2750bccd-c06d-4e21-924c-fd38a7d1b0bd",
        "colab": {
          "base_uri": "https://localhost:8080/",
          "height": 222
        }
      },
      "source": [
        "documents[1]"
      ],
      "execution_count": 11,
      "outputs": [
        {
          "output_type": "execute_result",
          "data": {
            "text/plain": [
              "['jfk',\n",
              " 'nyc',\n",
              " 'staff',\n",
              " 'amazing',\n",
              " 'lax',\n",
              " 'jetblue',\n",
              " 'sending',\n",
              " 'email',\n",
              " 'details',\n",
              " 'disappointing',\n",
              " 'experience',\n",
              " 'jetbluecheeps']"
            ]
          },
          "metadata": {
            "tags": []
          },
          "execution_count": 11
        }
      ]
    },
    {
      "cell_type": "code",
      "metadata": {
        "id": "sslwONUh_Q8y",
        "colab_type": "code",
        "outputId": "3a077125-f59a-438c-fdd3-274f41f7db6a",
        "colab": {
          "base_uri": "https://localhost:8080/",
          "height": 119
        }
      },
      "source": [
        "df_train['text'].head()"
      ],
      "execution_count": 12,
      "outputs": [
        {
          "output_type": "execute_result",
          "data": {
            "text/plain": [
              "750                     offering us 8 rooms 32 people fail\n",
              "6875     jfk nyc staff amazing lax jetblue sending emai...\n",
              "7598     well last update right direction least keep fi...\n",
              "14124    flight 3056 still sitting dfw waiting baggage ...\n",
              "6187     companion pass broken today purchase error inv...\n",
              "Name: text, dtype: object"
            ]
          },
          "metadata": {
            "tags": []
          },
          "execution_count": 12
        }
      ]
    },
    {
      "cell_type": "code",
      "metadata": {
        "id": "-mnTifiLBSaW",
        "colab_type": "code",
        "colab": {}
      },
      "source": [
        "w2v_model = gensim.models.word2vec.Word2Vec(size=W2V_SIZE, \n",
        "                                            window=W2V_WINDOW, \n",
        "                                            min_count=W2V_MIN_COUNT, \n",
        "                                            workers=8)"
      ],
      "execution_count": 0,
      "outputs": []
    },
    {
      "cell_type": "code",
      "metadata": {
        "id": "svKYLp5VBnFJ",
        "colab_type": "code",
        "colab": {}
      },
      "source": [
        "w2v_model.build_vocab(documents)"
      ],
      "execution_count": 0,
      "outputs": []
    },
    {
      "cell_type": "code",
      "metadata": {
        "id": "01uDRdCuBYH-",
        "colab_type": "code",
        "outputId": "31beae68-73bf-4557-c7d7-39f7451a94c2",
        "colab": {
          "base_uri": "https://localhost:8080/",
          "height": 34
        }
      },
      "source": [
        "words = w2v_model.wv.vocab.keys()\n",
        "vocab_size = len(words)\n",
        "print(\"Vocab size\", vocab_size)"
      ],
      "execution_count": 15,
      "outputs": [
        {
          "output_type": "stream",
          "text": [
            "Vocab size 1534\n"
          ],
          "name": "stdout"
        }
      ]
    },
    {
      "cell_type": "code",
      "metadata": {
        "id": "Q2wHvi5jBbht",
        "colab_type": "code",
        "outputId": "4d513585-8867-458b-d3c0-438cb8d25695",
        "colab": {
          "base_uri": "https://localhost:8080/",
          "height": 34
        }
      },
      "source": [
        "w2v_model.train(documents, total_examples=len(documents), epochs=W2V_EPOCH)\n"
      ],
      "execution_count": 16,
      "outputs": [
        {
          "output_type": "execute_result",
          "data": {
            "text/plain": [
              "(2440817, 3464448)"
            ]
          },
          "metadata": {
            "tags": []
          },
          "execution_count": 16
        }
      ]
    },
    {
      "cell_type": "code",
      "metadata": {
        "id": "0FTtp_gZBqMI",
        "colab_type": "code",
        "colab": {}
      },
      "source": [
        "tokenizer=Tokenizer()\n",
        "tokenizer.fit_on_texts(df_train.text)"
      ],
      "execution_count": 0,
      "outputs": []
    },
    {
      "cell_type": "code",
      "metadata": {
        "id": "1hTfiv1LBxui",
        "colab_type": "code",
        "outputId": "371e9fc4-eeeb-4986-9b96-64feaf75b055",
        "colab": {
          "base_uri": "https://localhost:8080/",
          "height": 34
        }
      },
      "source": [
        "vocab_size = len(tokenizer.word_index) + 1\n",
        "print(\"Total words\", vocab_size)"
      ],
      "execution_count": 18,
      "outputs": [
        {
          "output_type": "stream",
          "text": [
            "Total words 12198\n"
          ],
          "name": "stdout"
        }
      ]
    },
    {
      "cell_type": "code",
      "metadata": {
        "id": "v8PXi5d-Bz8e",
        "colab_type": "code",
        "outputId": "09a1c1d2-e437-4918-a664-f6898be99d8b",
        "colab": {
          "base_uri": "https://localhost:8080/",
          "height": 51
        }
      },
      "source": [
        "%%time\n",
        "x_train = pad_sequences(tokenizer.texts_to_sequences(df_train.text), maxlen=SEQUENCE_LENGTH)\n",
        "x_test = pad_sequences(tokenizer.texts_to_sequences(df_test.text), maxlen=SEQUENCE_LENGTH)"
      ],
      "execution_count": 19,
      "outputs": [
        {
          "output_type": "stream",
          "text": [
            "CPU times: user 340 ms, sys: 6.97 ms, total: 347 ms\n",
            "Wall time: 348 ms\n"
          ],
          "name": "stdout"
        }
      ]
    },
    {
      "cell_type": "code",
      "metadata": {
        "id": "LMNSVhrUB21X",
        "colab_type": "code",
        "outputId": "2d8945ae-e585-4971-87ad-31be1d2915e1",
        "colab": {
          "base_uri": "https://localhost:8080/",
          "height": 34
        }
      },
      "source": [
        "df_train.airline_sentiment.unique().tolist()"
      ],
      "execution_count": 20,
      "outputs": [
        {
          "output_type": "execute_result",
          "data": {
            "text/plain": [
              "['negative', 'positive', 'neutral']"
            ]
          },
          "metadata": {
            "tags": []
          },
          "execution_count": 20
        }
      ]
    },
    {
      "cell_type": "code",
      "metadata": {
        "id": "YAXRYcGRB5Xk",
        "colab_type": "code",
        "outputId": "56617c62-86fa-4c76-9f2b-b8098be97287",
        "colab": {
          "base_uri": "https://localhost:8080/",
          "height": 51
        }
      },
      "source": [
        "encoder = LabelEncoder()\n",
        "encoder.fit(df_train.airline_sentiment.tolist())\n",
        "\n",
        "y_train = encoder.transform(df_train.airline_sentiment.tolist())\n",
        "y_test = encoder.transform(df_test.airline_sentiment.tolist())\n",
        "\n",
        "\n",
        "#y_train = y_train.reshape(-1,1)\n",
        "#y_test = y_test.reshape(-1,1)\n",
        "\n",
        "print(\"y_train\",y_train.shape)\n",
        "print(\"y_test\",y_test.shape)"
      ],
      "execution_count": 21,
      "outputs": [
        {
          "output_type": "stream",
          "text": [
            "y_train (11712,)\n",
            "y_test (2928,)\n"
          ],
          "name": "stdout"
        }
      ]
    },
    {
      "cell_type": "code",
      "metadata": {
        "id": "TKw93jo8GRrQ",
        "colab_type": "code",
        "colab": {}
      },
      "source": [
        ""
      ],
      "execution_count": 0,
      "outputs": []
    },
    {
      "cell_type": "code",
      "metadata": {
        "id": "utgc056cENfh",
        "colab_type": "code",
        "outputId": "797b8464-dbd1-40c4-8eed-3aba9dc899b6",
        "colab": {
          "base_uri": "https://localhost:8080/",
          "height": 51
        }
      },
      "source": [
        "from keras.utils.np_utils import to_categorical\n",
        "\n",
        "y_train = to_categorical(y_train)\n",
        "y_test = to_categorical(y_test)\n",
        "\n",
        "\n",
        "print(\"y_train\",y_train.shape)\n",
        "print(\"y_test\",y_test.shape)\n"
      ],
      "execution_count": 22,
      "outputs": [
        {
          "output_type": "stream",
          "text": [
            "y_train (11712, 3)\n",
            "y_test (2928, 3)\n"
          ],
          "name": "stdout"
        }
      ]
    },
    {
      "cell_type": "code",
      "metadata": {
        "id": "_dwCU7xmEdjK",
        "colab_type": "code",
        "outputId": "6c2f93f1-700d-4061-b46b-62b5fa4365cd",
        "colab": {
          "base_uri": "https://localhost:8080/",
          "height": 1000
        }
      },
      "source": [
        "tokenizer.word_index"
      ],
      "execution_count": 23,
      "outputs": [
        {
          "output_type": "execute_result",
          "data": {
            "text/plain": [
              "{'flight': 1,\n",
              " 'get': 2,\n",
              " 'thanks': 3,\n",
              " 'cancelled': 4,\n",
              " 'service': 5,\n",
              " '2': 6,\n",
              " 'help': 7,\n",
              " 'time': 8,\n",
              " 'customer': 9,\n",
              " 'amp': 10,\n",
              " 'us': 11,\n",
              " 'hours': 12,\n",
              " 'hold': 13,\n",
              " 'flights': 14,\n",
              " 'plane': 15,\n",
              " 'thank': 16,\n",
              " 'please': 17,\n",
              " 'still': 18,\n",
              " 'would': 19,\n",
              " 'one': 20,\n",
              " 'need': 21,\n",
              " 'back': 22,\n",
              " 'delayed': 23,\n",
              " 'bag': 24,\n",
              " 'gate': 25,\n",
              " 'call': 26,\n",
              " 'flightled': 27,\n",
              " 'hour': 28,\n",
              " 'got': 29,\n",
              " 'united': 30,\n",
              " 'today': 31,\n",
              " 'like': 32,\n",
              " 'phone': 33,\n",
              " '3': 34,\n",
              " 'jetblue': 35,\n",
              " 'airline': 36,\n",
              " 'late': 37,\n",
              " 'fly': 38,\n",
              " 'guys': 39,\n",
              " 'know': 40,\n",
              " 'waiting': 41,\n",
              " 'airport': 42,\n",
              " '1': 43,\n",
              " '4': 44,\n",
              " 'trying': 45,\n",
              " 'u': 46,\n",
              " 'way': 47,\n",
              " 'great': 48,\n",
              " 'day': 49,\n",
              " 'change': 50,\n",
              " 'wait': 51,\n",
              " 'flying': 52,\n",
              " 'make': 53,\n",
              " 'really': 54,\n",
              " 'never': 55,\n",
              " 'check': 56,\n",
              " 'go': 57,\n",
              " 'weather': 58,\n",
              " 'going': 59,\n",
              " 'tomorrow': 60,\n",
              " 'last': 61,\n",
              " 'good': 62,\n",
              " '5': 63,\n",
              " 'delay': 64,\n",
              " 'home': 65,\n",
              " 'even': 66,\n",
              " 'minutes': 67,\n",
              " 'people': 68,\n",
              " 'seat': 69,\n",
              " 'dm': 70,\n",
              " 'w': 71,\n",
              " 'new': 72,\n",
              " 'agent': 73,\n",
              " 'another': 74,\n",
              " 'want': 75,\n",
              " 'told': 76,\n",
              " 'see': 77,\n",
              " 'americanair': 78,\n",
              " 'take': 79,\n",
              " 'bags': 80,\n",
              " 'luggage': 81,\n",
              " 'first': 82,\n",
              " 'love': 83,\n",
              " 'ticket': 84,\n",
              " 'someone': 85,\n",
              " 'number': 86,\n",
              " 'due': 87,\n",
              " 'worst': 88,\n",
              " 'could': 89,\n",
              " 'getting': 90,\n",
              " 'yes': 91,\n",
              " 'travel': 92,\n",
              " 'lost': 93,\n",
              " 'let': 94,\n",
              " 'ever': 95,\n",
              " 'work': 96,\n",
              " 'baggage': 97,\n",
              " 'email': 98,\n",
              " 'next': 99,\n",
              " 'hrs': 100,\n",
              " 'much': 101,\n",
              " 'aa': 102,\n",
              " 'days': 103,\n",
              " 'crew': 104,\n",
              " 'made': 105,\n",
              " 'flighted': 106,\n",
              " 'seats': 107,\n",
              " 'response': 108,\n",
              " 'trip': 109,\n",
              " 'right': 110,\n",
              " 'online': 111,\n",
              " 'two': 112,\n",
              " 'jfk': 113,\n",
              " 'sitting': 114,\n",
              " 'experience': 115,\n",
              " 'customers': 116,\n",
              " 'problems': 117,\n",
              " 'boarding': 118,\n",
              " 'passengers': 119,\n",
              " 'usairways': 120,\n",
              " 'long': 121,\n",
              " 'said': 122,\n",
              " 'staff': 123,\n",
              " 'line': 124,\n",
              " 'min': 125,\n",
              " 'left': 126,\n",
              " 'sent': 127,\n",
              " 'booked': 128,\n",
              " 'since': 129,\n",
              " 'already': 130,\n",
              " '30': 131,\n",
              " 'bad': 132,\n",
              " 'book': 133,\n",
              " '10': 134,\n",
              " 'best': 135,\n",
              " 'sure': 136,\n",
              " 'better': 137,\n",
              " 'reservation': 138,\n",
              " 'stuck': 139,\n",
              " 'give': 140,\n",
              " 'times': 141,\n",
              " 'dfw': 142,\n",
              " 'miss': 143,\n",
              " 'issue': 144,\n",
              " 'airlines': 145,\n",
              " 'agents': 146,\n",
              " 'well': 147,\n",
              " 'yet': 148,\n",
              " 'connection': 149,\n",
              " 'miles': 150,\n",
              " 'lax': 151,\n",
              " 'tonight': 152,\n",
              " 'think': 153,\n",
              " 'fleek': 154,\n",
              " 'morning': 155,\n",
              " 'fleet': 156,\n",
              " 'air': 157,\n",
              " 'nothing': 158,\n",
              " '6': 159,\n",
              " 'put': 160,\n",
              " 'hotel': 161,\n",
              " 'flt': 162,\n",
              " 'refund': 163,\n",
              " 'find': 164,\n",
              " 'delays': 165,\n",
              " 'booking': 166,\n",
              " 'flightr': 167,\n",
              " 'tell': 168,\n",
              " 'keep': 169,\n",
              " 'care': 170,\n",
              " 'info': 171,\n",
              " 'rude': 172,\n",
              " 'hope': 173,\n",
              " 'tried': 174,\n",
              " 'says': 175,\n",
              " 'follow': 176,\n",
              " 'called': 177,\n",
              " 'pay': 178,\n",
              " 'use': 179,\n",
              " 'anything': 180,\n",
              " 'night': 181,\n",
              " 'website': 182,\n",
              " 'ago': 183,\n",
              " 'system': 184,\n",
              " 'also': 185,\n",
              " 'missed': 186,\n",
              " 'free': 187,\n",
              " 'done': 188,\n",
              " 'phl': 189,\n",
              " 'rebooked': 190,\n",
              " 'nice': 191,\n",
              " 'finally': 192,\n",
              " 'awesome': 193,\n",
              " 'issues': 194,\n",
              " 'able': 195,\n",
              " 'sfo': 196,\n",
              " '8': 197,\n",
              " 'class': 198,\n",
              " '20': 199,\n",
              " 'tickets': 200,\n",
              " 'rebook': 201,\n",
              " 'status': 202,\n",
              " 'credit': 203,\n",
              " 'mins': 204,\n",
              " 'week': 205,\n",
              " 'checked': 206,\n",
              " 'working': 207,\n",
              " 'business': 208,\n",
              " 'anyone': 209,\n",
              " 'thx': 210,\n",
              " 'dca': 211,\n",
              " 'wifi': 212,\n",
              " 'appreciate': 213,\n",
              " 'ord': 214,\n",
              " 'leave': 215,\n",
              " 'update': 216,\n",
              " 'app': 217,\n",
              " 'every': 218,\n",
              " 'come': 219,\n",
              " 'say': 220,\n",
              " 'board': 221,\n",
              " 'via': 222,\n",
              " 'ok': 223,\n",
              " 'looking': 224,\n",
              " 'team': 225,\n",
              " 'missing': 226,\n",
              " 'problem': 227,\n",
              " 'understand': 228,\n",
              " 'yesterday': 229,\n",
              " '7': 230,\n",
              " 'available': 231,\n",
              " 'delta': 232,\n",
              " 'person': 233,\n",
              " 'making': 234,\n",
              " 'sorry': 235,\n",
              " 'always': 236,\n",
              " 'answer': 237,\n",
              " 'look': 238,\n",
              " 'fail': 239,\n",
              " 'many': 240,\n",
              " 'without': 241,\n",
              " 'year': 242,\n",
              " 'amazing': 243,\n",
              " 'disappointed': 244,\n",
              " 'southwest': 245,\n",
              " 'helpful': 246,\n",
              " 'almost': 247,\n",
              " 'speak': 248,\n",
              " 'voucher': 249,\n",
              " 'paid': 250,\n",
              " '1st': 251,\n",
              " 'upgrade': 252,\n",
              " 'planes': 253,\n",
              " 'fix': 254,\n",
              " 'contact': 255,\n",
              " 'hi': 256,\n",
              " 'pass': 257,\n",
              " '15': 258,\n",
              " 'clt': 259,\n",
              " 'terrible': 260,\n",
              " 'connecting': 261,\n",
              " 'full': 262,\n",
              " 'name': 263,\n",
              " 'send': 264,\n",
              " 'show': 265,\n",
              " 'bos': 266,\n",
              " 'though': 267,\n",
              " 'open': 268,\n",
              " 'attendant': 269,\n",
              " 'vegas': 270,\n",
              " 'ewr': 271,\n",
              " 'extra': 272,\n",
              " 'stop': 273,\n",
              " 'instead': 274,\n",
              " 'money': 275,\n",
              " 'talk': 276,\n",
              " 'departure': 277,\n",
              " 'rep': 278,\n",
              " 'early': 279,\n",
              " 'tarmac': 280,\n",
              " 'pilot': 281,\n",
              " 'different': 282,\n",
              " 'rt': 283,\n",
              " 'destinationdragons': 284,\n",
              " 'old': 285,\n",
              " 'airways': 286,\n",
              " 'received': 287,\n",
              " 'claim': 288,\n",
              " 'ground': 289,\n",
              " 'add': 290,\n",
              " 'ridiculous': 291,\n",
              " 'gt': 292,\n",
              " 'twitter': 293,\n",
              " 'earlier': 294,\n",
              " 'least': 295,\n",
              " 'took': 296,\n",
              " '24': 297,\n",
              " 'hung': 298,\n",
              " 'something': 299,\n",
              " 'employees': 300,\n",
              " 'direct': 301,\n",
              " 'unacceptable': 302,\n",
              " '45': 303,\n",
              " 'boston': 304,\n",
              " '9': 305,\n",
              " 'start': 306,\n",
              " 'actually': 307,\n",
              " 'denver': 308,\n",
              " 'company': 309,\n",
              " 'wife': 310,\n",
              " 'horrible': 311,\n",
              " 'site': 312,\n",
              " 'everyone': 313,\n",
              " '11': 314,\n",
              " 'happy': 315,\n",
              " 'poor': 316,\n",
              " 'try': 317,\n",
              " 'chicago': 318,\n",
              " 'job': 319,\n",
              " 'oh': 320,\n",
              " 'card': 321,\n",
              " 'chance': 322,\n",
              " 'supposed': 323,\n",
              " 'landed': 324,\n",
              " 'taking': 325,\n",
              " 'food': 326,\n",
              " 'american': 327,\n",
              " 'seriously': 328,\n",
              " 'leaving': 329,\n",
              " 'asked': 330,\n",
              " 'policy': 331,\n",
              " 'ur': 332,\n",
              " 'stranded': 333,\n",
              " 'far': 334,\n",
              " 'san': 335,\n",
              " 'dallas': 336,\n",
              " '50': 337,\n",
              " 'account': 338,\n",
              " 'family': 339,\n",
              " 'c': 340,\n",
              " 'point': 341,\n",
              " 'found': 342,\n",
              " 'went': 343,\n",
              " 'weeks': 344,\n",
              " 'calling': 345,\n",
              " 'reason': 346,\n",
              " '40': 347,\n",
              " 'might': 348,\n",
              " 'tweet': 349,\n",
              " 'may': 350,\n",
              " 'wrong': 351,\n",
              " 'away': 352,\n",
              " 'nyc': 353,\n",
              " 'reply': 354,\n",
              " 'twice': 355,\n",
              " 'message': 356,\n",
              " 'option': 357,\n",
              " 'southwestair': 358,\n",
              " 'less': 359,\n",
              " 'fee': 360,\n",
              " 'snow': 361,\n",
              " 'confirmation': 362,\n",
              " 'half': 363,\n",
              " 'desk': 364,\n",
              " 'b': 365,\n",
              " 'sit': 366,\n",
              " 'maybe': 367,\n",
              " 'used': 368,\n",
              " 'past': 369,\n",
              " 'bc': 370,\n",
              " 'charge': 371,\n",
              " 'frustrated': 372,\n",
              " 'reservations': 373,\n",
              " 'hey': 374,\n",
              " 'little': 375,\n",
              " 'vacation': 376,\n",
              " 'three': 377,\n",
              " 'needs': 378,\n",
              " 'using': 379,\n",
              " 'car': 380,\n",
              " 'friend': 381,\n",
              " 'mechanical': 382,\n",
              " 'enough': 383,\n",
              " 'big': 384,\n",
              " 'coming': 385,\n",
              " 'charlotte': 386,\n",
              " 'changed': 387,\n",
              " 'phx': 388,\n",
              " 'gave': 389,\n",
              " 'together': 390,\n",
              " 'broken': 391,\n",
              " 'stay': 392,\n",
              " 'return': 393,\n",
              " 'destination': 394,\n",
              " 'link': 395,\n",
              " 'iad': 396,\n",
              " 'thing': 397,\n",
              " 'kids': 398,\n",
              " 'possible': 399,\n",
              " 'soon': 400,\n",
              " '200': 401,\n",
              " 'saying': 402,\n",
              " '800': 403,\n",
              " 'awful': 404,\n",
              " 'lot': 405,\n",
              " 'houston': 406,\n",
              " 'cost': 407,\n",
              " 'landing': 408,\n",
              " 'newark': 409,\n",
              " 'lga': 410,\n",
              " 'makes': 411,\n",
              " 'hr': 412,\n",
              " '25': 413,\n",
              " 'member': 414,\n",
              " 'cool': 415,\n",
              " 'thru': 416,\n",
              " 'happened': 417,\n",
              " 'worse': 418,\n",
              " 'around': 419,\n",
              " 'cust': 420,\n",
              " 'offer': 421,\n",
              " 'idea': 422,\n",
              " 'runway': 423,\n",
              " 'attendants': 424,\n",
              " 'terminal': 425,\n",
              " 'scheduled': 426,\n",
              " 'iah': 427,\n",
              " 'looks': 428,\n",
              " 'longer': 429,\n",
              " 'everything': 430,\n",
              " 'sat': 431,\n",
              " 'hard': 432,\n",
              " 'sucks': 433,\n",
              " 'given': 434,\n",
              " 'assistance': 435,\n",
              " 'row': 436,\n",
              " 'things': 437,\n",
              " 'traveling': 438,\n",
              " 'request': 439,\n",
              " 'life': 440,\n",
              " 'jet': 441,\n",
              " 'lack': 442,\n",
              " 'heard': 443,\n",
              " 'points': 444,\n",
              " 'question': 445,\n",
              " 'error': 446,\n",
              " 'pls': 447,\n",
              " 'swa': 448,\n",
              " '12': 449,\n",
              " 'hear': 450,\n",
              " 'believe': 451,\n",
              " 'minute': 452,\n",
              " 'dc': 453,\n",
              " 'real': 454,\n",
              " 'information': 455,\n",
              " 'else': 456,\n",
              " 'cannot': 457,\n",
              " 'telling': 458,\n",
              " 'ua': 459,\n",
              " 'plus': 460,\n",
              " 'guess': 461,\n",
              " 'options': 462,\n",
              " 'hoping': 463,\n",
              " 'counting': 464,\n",
              " 'changes': 465,\n",
              " 'international': 466,\n",
              " 'philly': 467,\n",
              " 'waited': 468,\n",
              " 'im': 469,\n",
              " 'miami': 470,\n",
              " 'frustrating': 471,\n",
              " 'calls': 472,\n",
              " 'wanted': 473,\n",
              " 'ceo': 474,\n",
              " 'den': 475,\n",
              " 'forward': 476,\n",
              " 'las': 477,\n",
              " 'ask': 478,\n",
              " 'end': 479,\n",
              " 'standby': 480,\n",
              " 'fll': 481,\n",
              " 'carry': 482,\n",
              " 'seems': 483,\n",
              " 'pilots': 484,\n",
              " 'address': 485,\n",
              " 'complaint': 486,\n",
              " 'second': 487,\n",
              " 'mean': 488,\n",
              " 'monday': 489,\n",
              " '100': 490,\n",
              " 'arrived': 491,\n",
              " 'wish': 492,\n",
              " '2nd': 493,\n",
              " 'process': 494,\n",
              " 'reach': 495,\n",
              " 'boarded': 496,\n",
              " 'bwi': 497,\n",
              " 'feel': 498,\n",
              " 'room': 499,\n",
              " 'blue': 500,\n",
              " 'expect': 501,\n",
              " 'buy': 502,\n",
              " 'maintenance': 503,\n",
              " 'arrive': 504,\n",
              " 'communication': 505,\n",
              " 'city': 506,\n",
              " 'busy': 507,\n",
              " 'lose': 508,\n",
              " 'currently': 509,\n",
              " 'reflight': 510,\n",
              " 'guy': 511,\n",
              " 'imaginedragons': 512,\n",
              " 'glad': 513,\n",
              " 'la': 514,\n",
              " 'unitedairlines': 515,\n",
              " 'provide': 516,\n",
              " 'month': 517,\n",
              " 'pick': 518,\n",
              " 'wow': 519,\n",
              " 'usair': 520,\n",
              " 'form': 521,\n",
              " 'mco': 522,\n",
              " 'loyal': 523,\n",
              " 'pm': 524,\n",
              " 'thought': 525,\n",
              " 'joke': 526,\n",
              " 'suck': 527,\n",
              " 'either': 528,\n",
              " 'checking': 529,\n",
              " 'fees': 530,\n",
              " 'lol': 531,\n",
              " 'flew': 532,\n",
              " 'club': 533,\n",
              " 'supervisor': 534,\n",
              " 'world': 535,\n",
              " 'asking': 536,\n",
              " 'quick': 537,\n",
              " 'needed': 538,\n",
              " 'run': 539,\n",
              " 'taken': 540,\n",
              " 'paying': 541,\n",
              " 'details': 542,\n",
              " 'pretty': 543,\n",
              " 'sw': 544,\n",
              " 'yeah': 545,\n",
              " 'happens': 546,\n",
              " 'years': 547,\n",
              " 'cant': 548,\n",
              " 'passenger': 549,\n",
              " 'hopefully': 550,\n",
              " 'apology': 551,\n",
              " 'spent': 552,\n",
              " 'future': 553,\n",
              " 'deal': 554,\n",
              " 'wtf': 555,\n",
              " 'tv': 556,\n",
              " 'happen': 557,\n",
              " 'non': 558,\n",
              " 'case': 559,\n",
              " 'computer': 560,\n",
              " 'group': 561,\n",
              " 'updates': 562,\n",
              " 'tsa': 563,\n",
              " 'place': 564,\n",
              " 'respond': 565,\n",
              " 'okay': 566,\n",
              " 'luv': 567,\n",
              " 'months': 568,\n",
              " 'top': 569,\n",
              " 'bring': 570,\n",
              " 'human': 571,\n",
              " 'super': 572,\n",
              " 'seem': 573,\n",
              " 'correct': 574,\n",
              " 'award': 575,\n",
              " 'empty': 576,\n",
              " 'fine': 577,\n",
              " 'flown': 578,\n",
              " 'media': 579,\n",
              " 'feb': 580,\n",
              " 'austin': 581,\n",
              " 'atlanta': 582,\n",
              " 'helping': 583,\n",
              " 'connections': 584,\n",
              " 'sunday': 585,\n",
              " 'fact': 586,\n",
              " 'entire': 587,\n",
              " 'cabin': 588,\n",
              " 'nashville': 589,\n",
              " 'counter': 590,\n",
              " 'purchase': 591,\n",
              " 'orlando': 592,\n",
              " 'live': 593,\n",
              " 'sleep': 594,\n",
              " 'allow': 595,\n",
              " 'leg': 596,\n",
              " 'flightlations': 597,\n",
              " 'whole': 598,\n",
              " 'cold': 599,\n",
              " 'easy': 600,\n",
              " 'flighting': 601,\n",
              " 'compensation': 602,\n",
              " 'holding': 603,\n",
              " 'list': 604,\n",
              " 'huge': 605,\n",
              " 'companion': 606,\n",
              " 'round': 607,\n",
              " 'middle': 608,\n",
              " 'tuesday': 609,\n",
              " 'part': 610,\n",
              " 'following': 611,\n",
              " 'hate': 612,\n",
              " 'rather': 613,\n",
              " 'sad': 614,\n",
              " 'automated': 615,\n",
              " 'set': 616,\n",
              " 'sending': 617,\n",
              " '2015': 618,\n",
              " 'asap': 619,\n",
              " 'priority': 620,\n",
              " 'atl': 621,\n",
              " 'offered': 622,\n",
              " 'virginamerica': 623,\n",
              " 'beyond': 624,\n",
              " 'bought': 625,\n",
              " 'hello': 626,\n",
              " 'platinum': 627,\n",
              " 'completely': 628,\n",
              " 'checkin': 629,\n",
              " 'gets': 630,\n",
              " 'r': 631,\n",
              " 'apparently': 632,\n",
              " 'gonna': 633,\n",
              " 'drive': 634,\n",
              " 'price': 635,\n",
              " 'original': 636,\n",
              " 'plans': 637,\n",
              " 'zero': 638,\n",
              " 'figure': 639,\n",
              " 'fault': 640,\n",
              " 'confirmed': 641,\n",
              " 'employee': 642,\n",
              " 'customerservice': 643,\n",
              " 'clothes': 644,\n",
              " 'must': 645,\n",
              " 'handle': 646,\n",
              " 'upset': 647,\n",
              " 'crazy': 648,\n",
              " 'friendly': 649,\n",
              " 'giving': 650,\n",
              " 'support': 651,\n",
              " 'delivered': 652,\n",
              " 'works': 653,\n",
              " 'read': 654,\n",
              " 'friends': 655,\n",
              " 'extremely': 656,\n",
              " 'despite': 657,\n",
              " 'appreciated': 658,\n",
              " 'charged': 659,\n",
              " 'seen': 660,\n",
              " 'record': 661,\n",
              " 'cause': 662,\n",
              " '1k': 663,\n",
              " 'helped': 664,\n",
              " 'members': 665,\n",
              " 'sense': 666,\n",
              " 'takes': 667,\n",
              " 'several': 668,\n",
              " 'birthday': 669,\n",
              " 'answers': 670,\n",
              " 'high': 671,\n",
              " 'share': 672,\n",
              " 'means': 673,\n",
              " 'mileage': 674,\n",
              " 'space': 675,\n",
              " 'ppl': 676,\n",
              " 'f': 677,\n",
              " 'haha': 678,\n",
              " 'e': 679,\n",
              " 'mia': 680,\n",
              " 'wall': 681,\n",
              " 'unfortunately': 682,\n",
              " 'lounge': 683,\n",
              " 'knew': 684,\n",
              " 'treat': 685,\n",
              " 'tix': 686,\n",
              " 'dont': 687,\n",
              " 'relations': 688,\n",
              " 'aircraft': 689,\n",
              " 'switch': 690,\n",
              " 'water': 691,\n",
              " 'came': 692,\n",
              " 'n': 693,\n",
              " 'allowed': 694,\n",
              " 'storm': 695,\n",
              " 'reschedule': 696,\n",
              " 'luck': 697,\n",
              " 'learn': 698,\n",
              " 'fare': 699,\n",
              " 'yall': 700,\n",
              " 'confirm': 701,\n",
              " 'flightlation': 702,\n",
              " 'lt': 703,\n",
              " 'situation': 704,\n",
              " 'complete': 705,\n",
              " 'running': 706,\n",
              " 'worth': 707,\n",
              " 'safety': 708,\n",
              " 'ready': 709,\n",
              " 'mobile': 710,\n",
              " 'husband': 711,\n",
              " 'weekend': 712,\n",
              " 'access': 713,\n",
              " 'kind': 714,\n",
              " 'reps': 715,\n",
              " 'excellent': 716,\n",
              " 'gold': 717,\n",
              " 'schedule': 718,\n",
              " 'literally': 719,\n",
              " 'totally': 720,\n",
              " 'four': 721,\n",
              " 'fun': 722,\n",
              " 'held': 723,\n",
              " 'probably': 724,\n",
              " 'mom': 725,\n",
              " 'ny': 726,\n",
              " '23': 727,\n",
              " 'social': 728,\n",
              " 'kudos': 729,\n",
              " 'door': 730,\n",
              " 'vouchers': 731,\n",
              " 'multiple': 732,\n",
              " 'course': 733,\n",
              " 'country': 734,\n",
              " 'answering': 735,\n",
              " 'child': 736,\n",
              " 'americanairlines': 737,\n",
              " 'small': 738,\n",
              " 'land': 739,\n",
              " 'winter': 740,\n",
              " 'forced': 741,\n",
              " 'shit': 742,\n",
              " 'overnight': 743,\n",
              " 'arriving': 744,\n",
              " 'responding': 745,\n",
              " 'folks': 746,\n",
              " 'man': 747,\n",
              " 'word': 748,\n",
              " 'moved': 749,\n",
              " 'unable': 750,\n",
              " 'explain': 751,\n",
              " 'gives': 752,\n",
              " 'friday': 753,\n",
              " 'bna': 754,\n",
              " 'page': 755,\n",
              " 'hang': 756,\n",
              " 'services': 757,\n",
              " 'sign': 758,\n",
              " 'date': 759,\n",
              " '35': 760,\n",
              " 'mail': 761,\n",
              " 'goes': 762,\n",
              " 'changing': 763,\n",
              " 'saw': 764,\n",
              " 'fixed': 765,\n",
              " 'news': 766,\n",
              " 'disconnected': 767,\n",
              " 'feedback': 768,\n",
              " 'arrival': 769,\n",
              " 'virgin': 770,\n",
              " 'rescheduled': 771,\n",
              " '1hr': 772,\n",
              " '90': 773,\n",
              " 'losing': 774,\n",
              " 'id': 775,\n",
              " 'mess': 776,\n",
              " 'pre': 777,\n",
              " 'closed': 778,\n",
              " 'march': 779,\n",
              " 'mine': 780,\n",
              " 'wonderful': 781,\n",
              " 'true': 782,\n",
              " 'control': 783,\n",
              " 'code': 784,\n",
              " 'nope': 785,\n",
              " 'front': 786,\n",
              " 'submitted': 787,\n",
              " 'afternoon': 788,\n",
              " 'absolutely': 789,\n",
              " 'dividend': 790,\n",
              " 'dropped': 791,\n",
              " 'overhead': 792,\n",
              " 'layover': 793,\n",
              " 'choice': 794,\n",
              " 'complaints': 795,\n",
              " '3rd': 796,\n",
              " 'inconvenience': 797,\n",
              " 'matter': 798,\n",
              " 'ice': 799,\n",
              " 'plan': 800,\n",
              " 'report': 801,\n",
              " '22': 802,\n",
              " 'passbook': 803,\n",
              " 'letter': 804,\n",
              " 'btw': 805,\n",
              " 'ride': 806,\n",
              " 'domestic': 807,\n",
              " 'move': 808,\n",
              " 'load': 809,\n",
              " 'talked': 810,\n",
              " 'saturday': 811,\n",
              " 'area': 812,\n",
              " 'attitude': 813,\n",
              " 'watch': 814,\n",
              " '75': 815,\n",
              " 'note': 816,\n",
              " 'others': 817,\n",
              " 'drop': 818,\n",
              " 'treated': 819,\n",
              " 'son': 820,\n",
              " 'shows': 821,\n",
              " 'dal': 822,\n",
              " 'seating': 823,\n",
              " 'lots': 824,\n",
              " 'warm': 825,\n",
              " 'mind': 826,\n",
              " 'merger': 827,\n",
              " 'rock': 828,\n",
              " 'anyway': 829,\n",
              " 'showing': 830,\n",
              " 'excited': 831,\n",
              " 'tired': 832,\n",
              " 'depart': 833,\n",
              " 'gone': 834,\n",
              " 'safe': 835,\n",
              " 'behind': 836,\n",
              " 'conf': 837,\n",
              " 'bank': 838,\n",
              " 'however': 839,\n",
              " 'impressed': 840,\n",
              " 'keeps': 841,\n",
              " 'web': 842,\n",
              " 'daughter': 843,\n",
              " 'useless': 844,\n",
              " 'failed': 845,\n",
              " 'anymore': 846,\n",
              " 'connect': 847,\n",
              " 'total': 848,\n",
              " 'bs': 849,\n",
              " 'rdu': 850,\n",
              " 'dealing': 851,\n",
              " 'catch': 852,\n",
              " 'offering': 853,\n",
              " 'failure': 854,\n",
              " '000': 855,\n",
              " 'refused': 856,\n",
              " 'yr': 857,\n",
              " 'difference': 858,\n",
              " 'regarding': 859,\n",
              " 'phones': 860,\n",
              " 'except': 861,\n",
              " 'neveragain': 862,\n",
              " 'match': 863,\n",
              " 'drink': 864,\n",
              " 'route': 865,\n",
              " 'bit': 866,\n",
              " 'america': 867,\n",
              " 'south': 868,\n",
              " 'receive': 869,\n",
              " 'file': 870,\n",
              " 'spend': 871,\n",
              " 'fl': 872,\n",
              " 'clear': 873,\n",
              " 'anywhere': 874,\n",
              " 'security': 875,\n",
              " 'kidding': 876,\n",
              " 'plz': 877,\n",
              " 'fucking': 878,\n",
              " 'flyer': 879,\n",
              " 'funeral': 880,\n",
              " 'baby': 881,\n",
              " 'kept': 882,\n",
              " 'post': 883,\n",
              " 'airplane': 884,\n",
              " 'worked': 885,\n",
              " 'unhappy': 886,\n",
              " 'mistake': 887,\n",
              " 'stuff': 888,\n",
              " 'worries': 889,\n",
              " 'hangs': 890,\n",
              " 'story': 891,\n",
              " 'svc': 892,\n",
              " 'acceptable': 893,\n",
              " 'followed': 894,\n",
              " 'cc': 895,\n",
              " 'trouble': 896,\n",
              " 'tag': 897,\n",
              " 'evening': 898,\n",
              " 'concern': 899,\n",
              " '60': 900,\n",
              " 'party': 901,\n",
              " 'headed': 902,\n",
              " 'win': 903,\n",
              " 'avgeek': 904,\n",
              " 'tmrw': 905,\n",
              " 'window': 906,\n",
              " 'angry': 907,\n",
              " 'gates': 908,\n",
              " 'definitely': 909,\n",
              " 'pathetic': 910,\n",
              " 'funny': 911,\n",
              " 'airports': 912,\n",
              " 'ruined': 913,\n",
              " 'phoenix': 914,\n",
              " 'sort': 915,\n",
              " 'compensate': 916,\n",
              " '19': 917,\n",
              " 'cover': 918,\n",
              " 'philadelphia': 919,\n",
              " 'select': 920,\n",
              " 'equipment': 921,\n",
              " 'letting': 922,\n",
              " 'street': 923,\n",
              " 'dept': 924,\n",
              " 'seattle': 925,\n",
              " 'actual': 926,\n",
              " 'traveler': 927,\n",
              " 'flightd': 928,\n",
              " 'requested': 929,\n",
              " 'willing': 930,\n",
              " 'rental': 931,\n",
              " 'updated': 932,\n",
              " 'damn': 933,\n",
              " 'itinerary': 934,\n",
              " 'hell': 935,\n",
              " '21': 936,\n",
              " 'knows': 937,\n",
              " 'absolute': 938,\n",
              " 'wondering': 939,\n",
              " 'spoke': 940,\n",
              " 'short': 941,\n",
              " 'office': 942,\n",
              " 'entertainment': 943,\n",
              " 'onboard': 944,\n",
              " 'keeping': 945,\n",
              " 'none': 946,\n",
              " 'tells': 947,\n",
              " 'takeoff': 948,\n",
              " 'filed': 949,\n",
              " 'assist': 950,\n",
              " 'sister': 951,\n",
              " 'talking': 952,\n",
              " 'explanation': 953,\n",
              " 'uk': 954,\n",
              " 'frequent': 955,\n",
              " 'lines': 956,\n",
              " 'captain': 957,\n",
              " 'single': 958,\n",
              " 'hanging': 959,\n",
              " 'questions': 960,\n",
              " 'phlairport': 961,\n",
              " 'meal': 962,\n",
              " '2hrs': 963,\n",
              " 'moving': 964,\n",
              " 'likely': 965,\n",
              " 'till': 966,\n",
              " 'cut': 967,\n",
              " 'resolve': 968,\n",
              " 'appease': 969,\n",
              " 'count': 970,\n",
              " 'choose': 971,\n",
              " 'routes': 972,\n",
              " 'favorite': 973,\n",
              " 'program': 974,\n",
              " 'tho': 975,\n",
              " 'usually': 976,\n",
              " 'especially': 977,\n",
              " 'resolved': 978,\n",
              " 'current': 979,\n",
              " 'bother': 980,\n",
              " 'handled': 981,\n",
              " 'train': 982,\n",
              " 'bumped': 983,\n",
              " 'flyers': 984,\n",
              " '14': 985,\n",
              " 'emails': 986,\n",
              " 'wasted': 987,\n",
              " 'purchased': 988,\n",
              " 'answered': 989,\n",
              " 'happening': 990,\n",
              " 'usa': 991,\n",
              " '0': 992,\n",
              " 'center': 993,\n",
              " 'close': 994,\n",
              " 'volume': 995,\n",
              " 'screwed': 996,\n",
              " 'plenty': 997,\n",
              " 'meeting': 998,\n",
              " 'advisory': 999,\n",
              " 'preferred': 1000,\n",
              " ...}"
            ]
          },
          "metadata": {
            "tags": []
          },
          "execution_count": 23
        }
      ]
    },
    {
      "cell_type": "code",
      "metadata": {
        "id": "O72HeCtqFcwh",
        "colab_type": "code",
        "outputId": "71a44354-ea85-48f0-cdc6-39b85873cec7",
        "colab": {
          "base_uri": "https://localhost:8080/",
          "height": 34
        }
      },
      "source": [
        "embedding_matrix = np.zeros((vocab_size, W2V_SIZE))\n",
        "for word, i in tokenizer.word_index.items():\n",
        "  if word in w2v_model.wv:\n",
        "    embedding_matrix[i] = w2v_model.wv[word]\n",
        "print(embedding_matrix.shape)"
      ],
      "execution_count": 24,
      "outputs": [
        {
          "output_type": "stream",
          "text": [
            "(12198, 300)\n"
          ],
          "name": "stdout"
        }
      ]
    },
    {
      "cell_type": "code",
      "metadata": {
        "id": "YdpwKvCQFgqX",
        "colab_type": "code",
        "outputId": "2e981fd8-ae1d-4001-ea53-20f82dfa0f3c",
        "colab": {
          "base_uri": "https://localhost:8080/",
          "height": 71
        }
      },
      "source": [
        "embedding_layer = Embedding(vocab_size, W2V_SIZE, weights=[embedding_matrix], input_length=SEQUENCE_LENGTH, trainable=False)"
      ],
      "execution_count": 25,
      "outputs": [
        {
          "output_type": "stream",
          "text": [
            "WARNING:tensorflow:From /usr/local/lib/python3.6/dist-packages/keras/backend/tensorflow_backend.py:66: The name tf.get_default_graph is deprecated. Please use tf.compat.v1.get_default_graph instead.\n",
            "\n"
          ],
          "name": "stdout"
        }
      ]
    },
    {
      "cell_type": "code",
      "metadata": {
        "id": "hWJAoXCyhhJH",
        "colab_type": "code",
        "colab": {}
      },
      "source": [
        "from keras.layers import Bidirectional"
      ],
      "execution_count": 0,
      "outputs": []
    },
    {
      "cell_type": "code",
      "metadata": {
        "id": "P6kt3nVUFkoV",
        "colab_type": "code",
        "outputId": "fb9d8c26-65ab-4e94-8439-dc6f5c14a3ee",
        "colab": {
          "base_uri": "https://localhost:8080/",
          "height": 515
        }
      },
      "source": [
        "model = Sequential()\n",
        "model.add(embedding_layer)\n",
        "model.add(Dropout(0.5))\n",
        "model.add(Bidirectional(LSTM(100, dropout=0.2, recurrent_dropout=0.2)))\n",
        "model.add(Dense(3, activation='sigmoid'))\n",
        "\n",
        "\n",
        "model.compile(loss='binary_crossentropy',\n",
        "              optimizer=\"adam\",\n",
        "              metrics=['accuracy'])"
      ],
      "execution_count": 27,
      "outputs": [
        {
          "output_type": "stream",
          "text": [
            "WARNING:tensorflow:From /usr/local/lib/python3.6/dist-packages/keras/backend/tensorflow_backend.py:541: The name tf.placeholder is deprecated. Please use tf.compat.v1.placeholder instead.\n",
            "\n",
            "WARNING:tensorflow:From /usr/local/lib/python3.6/dist-packages/keras/backend/tensorflow_backend.py:4432: The name tf.random_uniform is deprecated. Please use tf.random.uniform instead.\n",
            "\n",
            "WARNING:tensorflow:From /usr/local/lib/python3.6/dist-packages/keras/backend/tensorflow_backend.py:190: The name tf.get_default_session is deprecated. Please use tf.compat.v1.get_default_session instead.\n",
            "\n",
            "WARNING:tensorflow:From /usr/local/lib/python3.6/dist-packages/keras/backend/tensorflow_backend.py:197: The name tf.ConfigProto is deprecated. Please use tf.compat.v1.ConfigProto instead.\n",
            "\n",
            "WARNING:tensorflow:From /usr/local/lib/python3.6/dist-packages/keras/backend/tensorflow_backend.py:203: The name tf.Session is deprecated. Please use tf.compat.v1.Session instead.\n",
            "\n",
            "WARNING:tensorflow:From /usr/local/lib/python3.6/dist-packages/keras/backend/tensorflow_backend.py:207: The name tf.global_variables is deprecated. Please use tf.compat.v1.global_variables instead.\n",
            "\n",
            "WARNING:tensorflow:From /usr/local/lib/python3.6/dist-packages/keras/backend/tensorflow_backend.py:216: The name tf.is_variable_initialized is deprecated. Please use tf.compat.v1.is_variable_initialized instead.\n",
            "\n",
            "WARNING:tensorflow:From /usr/local/lib/python3.6/dist-packages/keras/backend/tensorflow_backend.py:223: The name tf.variables_initializer is deprecated. Please use tf.compat.v1.variables_initializer instead.\n",
            "\n",
            "WARNING:tensorflow:From /usr/local/lib/python3.6/dist-packages/keras/backend/tensorflow_backend.py:148: The name tf.placeholder_with_default is deprecated. Please use tf.compat.v1.placeholder_with_default instead.\n",
            "\n",
            "WARNING:tensorflow:From /usr/local/lib/python3.6/dist-packages/keras/backend/tensorflow_backend.py:3733: calling dropout (from tensorflow.python.ops.nn_ops) with keep_prob is deprecated and will be removed in a future version.\n",
            "Instructions for updating:\n",
            "Please use `rate` instead of `keep_prob`. Rate should be set to `rate = 1 - keep_prob`.\n",
            "WARNING:tensorflow:From /usr/local/lib/python3.6/dist-packages/keras/optimizers.py:793: The name tf.train.Optimizer is deprecated. Please use tf.compat.v1.train.Optimizer instead.\n",
            "\n",
            "WARNING:tensorflow:From /usr/local/lib/python3.6/dist-packages/keras/backend/tensorflow_backend.py:3657: The name tf.log is deprecated. Please use tf.math.log instead.\n",
            "\n",
            "WARNING:tensorflow:From /tensorflow-1.15.0/python3.6/tensorflow_core/python/ops/nn_impl.py:183: where (from tensorflow.python.ops.array_ops) is deprecated and will be removed in a future version.\n",
            "Instructions for updating:\n",
            "Use tf.where in 2.0, which has the same broadcast rule as np.where\n"
          ],
          "name": "stdout"
        }
      ]
    },
    {
      "cell_type": "code",
      "metadata": {
        "id": "eYxadbGLFt3c",
        "colab_type": "code",
        "colab": {}
      },
      "source": [
        "##callbacks\n",
        "callbacks = [ ReduceLROnPlateau(monitor='val_loss', patience=5, cooldown=0),\n",
        "              EarlyStopping(monitor='val_acc', min_delta=1e-4, patience=5)]\n"
      ],
      "execution_count": 0,
      "outputs": []
    },
    {
      "cell_type": "code",
      "metadata": {
        "id": "UXFKOJOeFu4R",
        "colab_type": "code",
        "outputId": "c251183c-f25e-4569-f464-ec827033db1c",
        "colab": {
          "base_uri": "https://localhost:8080/",
          "height": 327
        }
      },
      "source": [
        "##train\n",
        "%%time\n",
        "history = model.fit(x_train, y_train,\n",
        "                    batch_size=50,\n",
        "                    epochs=5,\n",
        "                    validation_split=0.1,\n",
        "                    verbose=1,\n",
        "                    callbacks=callbacks)"
      ],
      "execution_count": 29,
      "outputs": [
        {
          "output_type": "stream",
          "text": [
            "WARNING:tensorflow:From /usr/local/lib/python3.6/dist-packages/keras/backend/tensorflow_backend.py:1033: The name tf.assign_add is deprecated. Please use tf.compat.v1.assign_add instead.\n",
            "\n",
            "WARNING:tensorflow:From /usr/local/lib/python3.6/dist-packages/keras/backend/tensorflow_backend.py:1020: The name tf.assign is deprecated. Please use tf.compat.v1.assign instead.\n",
            "\n",
            "Train on 10540 samples, validate on 1172 samples\n",
            "Epoch 1/5\n",
            "10540/10540 [==============================] - 196s 19ms/step - loss: 0.4123 - acc: 0.8141 - val_loss: 0.3709 - val_acc: 0.8330\n",
            "Epoch 2/5\n",
            "10540/10540 [==============================] - 198s 19ms/step - loss: 0.3694 - acc: 0.8357 - val_loss: 0.3583 - val_acc: 0.8396\n",
            "Epoch 3/5\n",
            "10540/10540 [==============================] - 197s 19ms/step - loss: 0.3588 - acc: 0.8387 - val_loss: 0.3517 - val_acc: 0.8387\n",
            "Epoch 4/5\n",
            "10540/10540 [==============================] - 192s 18ms/step - loss: 0.3533 - acc: 0.8436 - val_loss: 0.3474 - val_acc: 0.8382\n",
            "Epoch 5/5\n",
            "10540/10540 [==============================] - 190s 18ms/step - loss: 0.3456 - acc: 0.8468 - val_loss: 0.3429 - val_acc: 0.8444\n",
            "CPU times: user 26min 57s, sys: 4min 33s, total: 31min 31s\n",
            "Wall time: 16min 13s\n"
          ],
          "name": "stdout"
        }
      ]
    },
    {
      "cell_type": "code",
      "metadata": {
        "id": "4gO70iFrFx-g",
        "colab_type": "code",
        "outputId": "e1e82d68-eed7-487f-8bc8-44ec5a27add8",
        "colab": {
          "base_uri": "https://localhost:8080/",
          "height": 545
        }
      },
      "source": [
        "acc = history.history['acc']\n",
        "val_acc = history.history['val_acc']\n",
        "loss = history.history['loss']\n",
        "val_loss = history.history['val_loss']\n",
        " \n",
        "epochs = range(len(acc))\n",
        " \n",
        "plt.plot(epochs, acc, 'b', label='Training acc')\n",
        "plt.plot(epochs, val_acc, 'r', label='Validation acc')\n",
        "plt.title('Training and validation accuracy')\n",
        "plt.legend()\n",
        " \n",
        "plt.figure()\n",
        " \n",
        "plt.plot(epochs, loss, 'b', label='Training loss')\n",
        "plt.plot(epochs, val_loss, 'r', label='Validation loss')\n",
        "plt.title('Training and validation loss')\n",
        "plt.legend()\n",
        " \n",
        "plt.show()"
      ],
      "execution_count": 30,
      "outputs": [
        {
          "output_type": "display_data",
          "data": {
            "image/png": "[encoded data removed]",
            "text/plain": [
              "<Figure size 432x288 with 1 Axes>"
            ]
          },
          "metadata": {
            "tags": []
          }
        },
        {
          "output_type": "display_data",
          "data": {
            "image/png": "[encoded data removed]",
            "text/plain": [
              "<Figure size 432x288 with 1 Axes>"
            ]
          },
          "metadata": {
            "tags": []
          }
        }
      ]
    },
    {
      "cell_type": "code",
      "metadata": {
        "id": "zL2NHMEjVUR1",
        "colab_type": "code",
        "colab": {}
      },
      "source": [
        "#def decode_sentiment(score,include_neutral=True):\n",
        "#  if include_neutral:\n",
        "#    label=NEUTRAL\n",
        "#    if score <= SENTIMENT_THRESHOLDS[0]:\n",
        "#      label= NEGATIVE\n",
        "#    elif score >= SENTIMENT_THRESHOLDS[1]:\n",
        "#      label= POSITIVE\n",
        "#    return label\n"
      ],
      "execution_count": 0,
      "outputs": []
    },
    {
      "cell_type": "code",
      "metadata": {
        "id": "MAr0kAjqVjyO",
        "colab_type": "code",
        "colab": {}
      },
      "source": [
        "#def predict(text,include_neutral=True):\n",
        "#  start_at = time.time()\n",
        "#  # Tokenize text\n",
        "#  x_test = pad_sequences(tokenizer.texts_to_sequences([text]), maxlen=SEQUENCE_LENGTH)\n",
        "#  # Predict\n",
        "#  score = model.predict([x_test])[0]\n",
        "#  label = decode_sentiment(score, include_neutral=include_neutral)\n",
        "#  return {\"label\": label, \"score\": float(score),\n",
        "#       \"elapsed_time\": time.time()-start_at}  "
      ],
      "execution_count": 0,
      "outputs": []
    },
    {
      "cell_type": "code",
      "metadata": {
        "id": "Tcs0uIQVVp0l",
        "colab_type": "code",
        "colab": {}
      },
      "source": [
        ""
      ],
      "execution_count": 0,
      "outputs": []
    },
    {
      "cell_type": "code",
      "metadata": {
        "id": "gvFg_1oXVrqU",
        "colab_type": "code",
        "outputId": "5348006c-523b-4bd3-a891-951a7e91412c",
        "colab": {
          "base_uri": "https://localhost:8080/",
          "height": 34
        }
      },
      "source": [
        "score = model.predict(x_test,batch_size=20,verbose=1)"
      ],
      "execution_count": 32,
      "outputs": [
        {
          "output_type": "stream",
          "text": [
            "2928/2928 [==============================] - 51s 17ms/step\n"
          ],
          "name": "stdout"
        }
      ]
    },
    {
      "cell_type": "code",
      "metadata": {
        "id": "klWtUqaTXfkt",
        "colab_type": "code",
        "colab": {}
      },
      "source": [
        ""
      ],
      "execution_count": 0,
      "outputs": []
    },
    {
      "cell_type": "code",
      "metadata": {
        "id": "s-lK4u-EYbB_",
        "colab_type": "code",
        "colab": {}
      },
      "source": [
        ""
      ],
      "execution_count": 0,
      "outputs": []
    },
    {
      "cell_type": "code",
      "metadata": {
        "id": "-teVOoLmXhjd",
        "colab_type": "code",
        "colab": {}
      },
      "source": [
        ""
      ],
      "execution_count": 0,
      "outputs": []
    },
    {
      "cell_type": "code",
      "metadata": {
        "id": "HcD1m318e1Mr",
        "colab_type": "code",
        "colab": {}
      },
      "source": [
        "def preprocess(text):\n",
        "  \n",
        "  review=re.sub('@\\S+|https?:\\S+|http?:\\S|[^A-Za-z0-9]+',' ',text)\n",
        "  review=review.lower()\n",
        "  review=review.split()\n",
        "  review=[word for word in review if not word in stop_words]\n",
        "  print(review)\n",
        "  review=pad_sequences(tokenizer.texts_to_sequences([review]), maxlen=300)\n",
        "  return review"
      ],
      "execution_count": 0,
      "outputs": []
    },
    {
      "cell_type": "code",
      "metadata": {
        "id": "vS4nnvrAgEz8",
        "colab_type": "code",
        "colab": {}
      },
      "source": [
        "def prediction(review):\n",
        "    review=preprocess(review)\n",
        "    score=model.predict(review)\n",
        "    score=np.argmax(score,axis=1)\n",
        "    if score<0.4:\n",
        "        print(\"Negative\")\n",
        "    elif (score>0.4) & (score<0.6):\n",
        "        print(\"Neutral\")\n",
        "    else:\n",
        "        print(\"Positive\")\n",
        "    print(score)"
      ],
      "execution_count": 0,
      "outputs": []
    },
    {
      "cell_type": "code",
      "metadata": {
        "id": "Iulsm8qQgLcs",
        "colab_type": "code",
        "outputId": "a1178d83-dbee-4b90-8983-dc2cc0566547",
        "colab": {
          "base_uri": "https://localhost:8080/",
          "height": 68
        }
      },
      "source": [
        "prediction('The Food Is Not Bad')"
      ],
      "execution_count": 37,
      "outputs": [
        {
          "output_type": "stream",
          "text": [
            "['food', 'bad']\n",
            "Negative\n",
            "[0]\n"
          ],
          "name": "stdout"
        }
      ]
    },
    {
      "cell_type": "code",
      "metadata": {
        "id": "7tY2OL-fg7OC",
        "colab_type": "code",
        "colab": {
          "base_uri": "https://localhost:8080/",
          "height": 68
        },
        "outputId": "62ec547f-43f1-41dc-e47f-f7dca444e6e4"
      },
      "source": [
        "prediction(\"@AmericanAir it's more than technical problems. #frustrated #answerthephone Res. on hold and can't get thru to use a credit to pay for it\")"
      ],
      "execution_count": 40,
      "outputs": [
        {
          "output_type": "stream",
          "text": [
            "['technical', 'problems', 'frustrated', 'answerthephone', 'res', 'hold', 'get', 'thru', 'use', 'credit', 'pay']\n",
            "Negative\n",
            "[0]\n"
          ],
          "name": "stdout"
        }
      ]
    },
    {
      "cell_type": "code",
      "metadata": {
        "id": "whX5CYADiCON",
        "colab_type": "code",
        "colab": {}
      },
      "source": [
        "    "
      ],
      "execution_count": 0,
      "outputs": []
    },
    {
      "cell_type": "code",
      "metadata": {
        "id": "zm51M9fKmic5",
        "colab_type": "code",
        "colab": {}
      },
      "source": [
        ""
      ],
      "execution_count": 0,
      "outputs": []
    },
    {
      "cell_type": "code",
      "metadata": {
        "id": "8bVjHgQymjdh",
        "colab_type": "code",
        "colab": {}
      },
      "source": [
        ""
      ],
      "execution_count": 0,
      "outputs": []
    },
    {
      "cell_type": "code",
      "metadata": {
        "id": "O4FEjqEzfJm0",
        "colab_type": "code",
        "colab": {}
      },
      "source": [
        ""
      ],
      "execution_count": 0,
      "outputs": []
    },
    {
      "cell_type": "code",
      "metadata": {
        "id": "m5PIwUdFfdJi",
        "colab_type": "code",
        "colab": {}
      },
      "source": [
        "len(score)"
      ],
      "execution_count": 0,
      "outputs": []
    },
    {
      "cell_type": "code",
      "metadata": {
        "id": "h5IqHFTdwVQ3",
        "colab_type": "code",
        "colab": {}
      },
      "source": [
        "new=[]\n",
        "for i in range(len(score)):\n",
        "\n",
        "  new= np.median(score[i])\n",
        "  print(new)"
      ],
      "execution_count": 0,
      "outputs": []
    },
    {
      "cell_type": "code",
      "metadata": {
        "id": "Sz4IFS7cyMAr",
        "colab_type": "code",
        "colab": {}
      },
      "source": [
        "len(new)"
      ],
      "execution_count": 0,
      "outputs": []
    },
    {
      "cell_type": "code",
      "metadata": {
        "id": "0mzay_XMyfUW",
        "colab_type": "code",
        "colab": {}
      },
      "source": [
        ""
      ],
      "execution_count": 0,
      "outputs": []
    },
    {
      "cell_type": "code",
      "metadata": {
        "id": "G1N2cYM4y98L",
        "colab_type": "code",
        "colab": {}
      },
      "source": [
        ""
      ],
      "execution_count": 0,
      "outputs": []
    },
    {
      "cell_type": "code",
      "metadata": {
        "id": "HhGCcNvlz9eL",
        "colab_type": "code",
        "colab": {}
      },
      "source": [
        ""
      ],
      "execution_count": 0,
      "outputs": []
    }
  ]
}